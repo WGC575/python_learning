{
 "metadata": {
  "language_info": {
   "codemirror_mode": {
    "name": "ipython",
    "version": 3
   },
   "file_extension": ".py",
   "mimetype": "text/x-python",
   "name": "python",
   "nbconvert_exporter": "python",
   "pygments_lexer": "ipython3",
   "version": "3.8.10"
  },
  "orig_nbformat": 4,
  "kernelspec": {
   "name": "python3",
   "display_name": "Python 3.8.10 64-bit (windows store)"
  },
  "interpreter": {
   "hash": "990f456140fba48f5763c6d03f1c18e498cd4afdc62f92fbab6c480cbf0e32f8"
  }
 },
 "nbformat": 4,
 "nbformat_minor": 2,
 "cells": [
  {
   "cell_type": "code",
   "execution_count": 1,
   "source": [
    "import scipy.stats as ss\r\n",
    "import pandas as pd\r\n",
    "import numpy\r\n",
    "#print(scipy.stats.fisher_exact(table=[[109,30],[401,274]], alternative=\"greater\")) \r\n",
    "#print(scipy.stats.fisher_exact(table=[[230,1370],[30,284]], alternative=\"less\")) \r\n",
    "#print(scipy.stats.fisher_exact(table=[[709,891],[173,141]], alternative=\"less\")) \r\n",
    "#print(scipy.stats.fisher_exact(table=[[245,1335],[87,227]], alternative=\"less\")) "
   ],
   "outputs": [],
   "metadata": {}
  },
  {
   "cell_type": "markdown",
   "source": [],
   "metadata": {}
  }
 ]
}