{
 "metadata": {
  "language_info": {
   "codemirror_mode": {
    "name": "ipython",
    "version": 3
   },
   "file_extension": ".py",
   "mimetype": "text/x-python",
   "name": "python",
   "nbconvert_exporter": "python",
   "pygments_lexer": "ipython3",
   "version": "3.8.10"
  },
  "orig_nbformat": 4,
  "kernelspec": {
   "name": "python3",
   "display_name": "Python 3.8.10 64-bit (windows store)"
  },
  "interpreter": {
   "hash": "2f95e249f8110100ddcf2dcf3bd8e6f8b7e4c1277390fe689f839ca4b18874b3"
  }
 },
 "nbformat": 4,
 "nbformat_minor": 2,
 "cells": [
  {
   "cell_type": "code",
   "execution_count": 29,
   "source": [
    "import scipy.stats as ss\r\n",
    "import pandas as pd\r\n",
    "import numpy\r\n",
    "\r\n",
    "mat = pd.read_csv('./break.csv',)\r\n",
    "\r\n",
    "cate = [\"Branch\", \"Bug fix\", \"Build\", \"Clean up\", \"Legal\", \"Cross\", \"Data\", \"Debug\", \"Documentation\", \"External\", \"Feature Add\", \"Indentation\", \"Initialization\", \"Internationalization\", \"Source Control\", \"Maintenance\", \"Merge\", \"Module Add\", \"Module Move\", \"Module Remove\", \"Platform Specific\", \"Refactoring\", \"Rename\", \"Testing\", \"Token Replace\", \"Versioning\", \"Modification\", \"Utility\", \"Replacement\"]\r\n",
    "\r\n",
    "for i in cate:\r\n",
    "    print(ss.fisher_exact([[mat[i][0],mat[i][1]],[mat[i][2],mat[i][3]]],\"two-sided\"))\r\n",
    "    #print(mat[i][0])\r\n",
    "\r\n",
    "\r\n",
    "#print(len(cate))\r\n",
    "#print(mat)\r\n",
    "#print(scipy.stats.fisher_exact(table=[[109,30],[401,274]], alternative=\"greater\")) \r\n",
    "#print(ss.fisher_exact(table=[[230,1370],[30,284]], alternative=\"two-sided\")) \r\n",
    "#print(scipy.stats.fisher_exact(table=[[709,891],[173,141]], alternative=\"less\")) \r\n",
    "#print(scipy.stats.fisher_exact(table=[[245,1335],[87,227]], alternative=\"less\")) "
   ],
   "outputs": [
    {
     "output_type": "stream",
     "name": "stdout",
     "text": [
      "(nan, 1.0)\n",
      "(1.589294403892944, 0.02400462268442963)\n",
      "(0.3273402317027055, 6.243518859584987e-07)\n",
      "(0.640502354788069, 0.021477401901120782)\n",
      "(0.3879093198992443, 0.09937537145749924)\n",
      "(0.9313725490196079, 0.7820122556631897)\n",
      "(inf, 1.0)\n",
      "(1.7705845380263985, 1.0)\n",
      "(2.449158351740422, 0.00010682166108968403)\n",
      "(nan, 1.0)\n",
      "(0.4717733384230394, 5.112998797146896e-07)\n",
      "(0.9556374119154388, 0.8432556915832835)\n",
      "(inf, 1.0)\n",
      "(inf, 1.0)\n",
      "(0.8479457856840322, 0.6357778769717467)\n",
      "(0.6485471283159144, 0.0005158267480563528)\n",
      "(inf, 1.0)\n",
      "(0.0, 0.1640543364682455)\n",
      "(0.03864915572232645, 0.0006005313951708381)\n",
      "(0.0484677923702314, 0.0031013526124522082)\n",
      "(nan, 1.0)\n",
      "(0.35790013982548363, 4.134243741224559e-06)\n",
      "(0.0484677923702314, 0.0031013526124522082)\n",
      "(0.9980300829702342, 1.0)\n",
      "(0.691609977324263, 0.3908549109030819)\n",
      "(inf, 1.0)\n",
      "(0.8294809961476628, 0.14430049938058417)\n",
      "(0.9195046439628483, 0.7781817124037322)\n",
      "(0.2260596546310832, 2.1393217869044072e-07)\n"
     ]
    }
   ],
   "metadata": {}
  },
  {
   "cell_type": "markdown",
   "source": [],
   "metadata": {}
  }
 ]
}