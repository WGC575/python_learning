{
 "metadata": {
  "language_info": {
   "codemirror_mode": {
    "name": "ipython",
    "version": 3
   },
   "file_extension": ".py",
   "mimetype": "text/x-python",
   "name": "python",
   "nbconvert_exporter": "python",
   "pygments_lexer": "ipython3",
   "version": "3.8.10"
  },
  "orig_nbformat": 4,
  "kernelspec": {
   "name": "python3",
   "display_name": "Python 3.8.10 64-bit (windows store)"
  },
  "interpreter": {
   "hash": "2f95e249f8110100ddcf2dcf3bd8e6f8b7e4c1277390fe689f839ca4b18874b3"
  }
 },
 "nbformat": 4,
 "nbformat_minor": 2,
 "cells": [
  {
   "cell_type": "code",
   "execution_count": 31,
   "source": [
    "import scipy.stats as ss\r\n",
    "import pandas as pd\r\n",
    "import numpy\r\n",
    "\r\n",
    "#print(scipy.stats.fisher_exact(table=[[109,30],[401,274]], alternative=\"greater\")) \r\n",
    "print(ss.fisher_exact(table=[[0,1578],[820,758]], alternative=\"two-sided\")) \r\n",
    "#print(scipy.stats.fisher_exact(table=[[709,891],[173,141]], alternative=\"less\")) \r\n",
    "#print(scipy.stats.fisher_exact(table=[[245,1335],[87,227]], alternative=\"less\")) "
   ],
   "outputs": [
    {
     "output_type": "stream",
     "name": "stdout",
     "text": [
      "(0.0, 4.950832333966e-311)\n"
     ]
    }
   ],
   "metadata": {}
  },
  {
   "cell_type": "markdown",
   "source": [],
   "metadata": {}
  }
 ]
}