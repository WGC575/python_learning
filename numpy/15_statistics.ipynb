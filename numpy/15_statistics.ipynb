{
 "cells": [
  {
   "cell_type": "code",
   "execution_count": 18,
   "metadata": {},
   "outputs": [
    {
     "name": "stdout",
     "output_type": "stream",
     "text": [
      "[[1 2 3]\n",
      " [4 5 6]\n",
      " [7 8 9]]\n",
      "[1 4 7]\n",
      "[1 2 3]\n",
      "[3 6 9]\n"
     ]
    }
   ],
   "source": [
    "'''\n",
    "NumPy 统计函数\n",
    "NumPy 提供了很多统计函数，用于从数组中查找最小元素，最大元素，百分位标准差和方差等。 函数说明如下：\n",
    "numpy.amin() 和 numpy.amax()\n",
    "numpy.amin() 用于计算数组中的元素沿指定轴的最小值。\n",
    "numpy.amax() 用于计算数组中的元素沿指定轴的最大值。\n",
    "'''\n",
    "\n",
    "import numpy as np\n",
    "\n",
    "a = np.array([[1, 2, 3], [4, 5, 6], [7, 8, 9]])\n",
    "print(a)\n",
    "print(np.amin(a, axis = 1))\n",
    "print(np.amin(a, axis = 0))\n",
    "print(np.amax(a, axis = 1))"
   ]
  },
  {
   "cell_type": "code",
   "execution_count": 19,
   "metadata": {},
   "outputs": [
    {
     "name": "stdout",
     "output_type": "stream",
     "text": [
      "8\n",
      "[6 6 6]\n",
      "[2 2 2]\n"
     ]
    }
   ],
   "source": [
    "#numpy.ptp()函数计算数组中元素最大值与最小值的差（最大值 - 最小值）。\n",
    "print(np.ptp(a))\n",
    "print(np.ptp(a, axis = 0))\n",
    "print(np.ptp(a, axis = 1))"
   ]
  },
  {
   "cell_type": "code",
   "execution_count": 20,
   "metadata": {},
   "outputs": [
    {
     "name": "stdout",
     "output_type": "stream",
     "text": [
      "[[10  7  4]\n",
      " [ 3  2  1]]\n",
      "3.5\n",
      "[6.5 4.5 2.5]\n",
      "[7. 2.]\n",
      "[[7.]\n",
      " [2.]]\n"
     ]
    }
   ],
   "source": [
    "'''\n",
    "百分位数是统计中使用的度量，表示小于这个值的观察值的百分比。 函数numpy.percentile()接受以下参数。\n",
    "numpy.percentile(a, q, axis)\n",
    "参数说明：\n",
    "\n",
    "a: 输入数组\n",
    "q: 要计算的百分位数，在 0 ~ 100 之间\n",
    "axis: 沿着它计算百分位数的轴\n",
    "首先明确百分位数：\n",
    "\n",
    "第 p 个百分位数是这样一个值，它使得至少有 p% 的数据项小于或等于这个值，且至少有 (100-p)% 的数据项大于或等于这个值。\n",
    "\n",
    "举个例子：高等院校的入学考试成绩经常以百分位数的形式报告。比如，假设某个考生在入学考试中的语文部分的原始分数为 54 分。相对于参加同一考试的其他学生来说，他的成绩如何并不容易知道。但是如果原始分数54分恰好对应的是第70百分位数，我们就能知道大约70%的学生的考分比他低，而约30%的学生考分比他高。\n",
    "\n",
    "这里的 p = 70。\n",
    "'''\n",
    "\n",
    "a = np.array([[10, 7, 4], [3, 2, 1]])\n",
    "print(a)\n",
    "\n",
    "#different axis\n",
    "print(np.percentile(a, 50))\n",
    "print(np.percentile(a, 50, axis = 0))\n",
    "print(np.percentile(a, 50, axis = 1))\n",
    "print(np.percentile(a, 50, axis = 1, keepdims = True))\n",
    "\n",
    "\n"
   ]
  },
  {
   "cell_type": "code",
   "execution_count": 21,
   "metadata": {},
   "outputs": [
    {
     "name": "stdout",
     "output_type": "stream",
     "text": [
      "[[30 65 70]\n",
      " [80 95 10]\n",
      " [50 90 60]]\n",
      "65.0\n",
      "[50. 90. 60.]\n",
      "[65. 80. 60.]\n"
     ]
    }
   ],
   "source": [
    "'''\n",
    "numpy.median()\n",
    "numpy.median() 函数用于计算数组 a 中元素的中位数（中值）\n",
    "'''\n",
    "\n",
    "a = np.array([[30, 65, 70], [80, 95, 10], [50, 90, 60]])\n",
    "print(a)\n",
    "print(np.median(a))\n",
    "print(np.median(a, axis = 0))\n",
    "print(np.median(a, axis = 1))\n",
    "#to float"
   ]
  },
  {
   "cell_type": "code",
   "execution_count": 22,
   "metadata": {},
   "outputs": [
    {
     "name": "stdout",
     "output_type": "stream",
     "text": [
      "[[1 2 3]\n",
      " [4 5 6]\n",
      " [7 8 9]]\n",
      "5.0\n",
      "[4. 5. 6.]\n",
      "[2. 5. 8.]\n"
     ]
    }
   ],
   "source": [
    "'''\n",
    "numpy.mean() 函数返回数组中元素的算术平均值。 如果提供了轴，则沿其计算。\n",
    "算术平均值是沿轴的元素的总和除以元素的数量。\n",
    "'''\n",
    "\n",
    "a = np.array([[1, 2, 3], [4, 5, 6], [7, 8, 9]])\n",
    "print(a)\n",
    "print(np.mean(a))\n",
    "print(np.mean(a, axis = 0))\n",
    "print(np.mean(a, axis = 1))\n"
   ]
  },
  {
   "cell_type": "code",
   "execution_count": 23,
   "metadata": {},
   "outputs": [
    {
     "name": "stdout",
     "output_type": "stream",
     "text": [
      "[1 2 3 4]\n",
      "2.5\n",
      "2.0000000000000004\n",
      "(2.0000000000000004, 0.9999999999999999)\n"
     ]
    }
   ],
   "source": [
    "'''\n",
    "numpy.average()\n",
    "numpy.average() 函数根据在另一个数组中给出的各自的权重计算数组中元素的加权平均值。\n",
    "该函数可以接受一个轴参数。 如果没有指定轴，则数组会被展开。\n",
    "加权平均值即将各数值乘以相应的权数，然后加总求和得到总体值，再除以总的单位数。\n",
    "考虑数组[1,2,3,4]和相应的权重[4,3,2,1]，通过将相应元素的乘积相加，并将和除以权重的和，来计算加权平均值。\n",
    "'''\n",
    "a = np.array([1, 2, 3, 4])\n",
    "print(a)\n",
    "print(np.average(a))\n",
    "weight = np.array([0.4, 0.3, 0.2, 0.1])\n",
    "print(np.average(a, weights = weight))\n",
    "print(np.average([1, 2, 3, 4], weights = [0.4, 0.3, 0.2, 0.1], returned = True))"
   ]
  },
  {
   "cell_type": "code",
   "execution_count": 24,
   "metadata": {},
   "outputs": [
    {
     "name": "stdout",
     "output_type": "stream",
     "text": [
      "1.118033988749895\n"
     ]
    }
   ],
   "source": [
    "'''\n",
    "标准差\n",
    "标准差是一组数据平均值分散程度的一种度量。\n",
    "标准差是方差的算术平方根。\n",
    "标准差公式如下：\n",
    "std = sqrt(mean((x - x.mean())**2))\n",
    "如果数组是 [1，2，3，4]，则其平均值为 2.5。 因此，差的平方是 [2.25,0.25,0.25,2.25]，并且再求其平均值的平方根除以 4，即 sqrt(5/4) ，结果为 1.1180339887498949。\n",
    "'''\n",
    "print(np.std([1, 2, 3, 4]))\n"
   ]
  },
  {
   "cell_type": "code",
   "execution_count": 25,
   "metadata": {},
   "outputs": [
    {
     "name": "stdout",
     "output_type": "stream",
     "text": [
      "1.25\n"
     ]
    }
   ],
   "source": [
    "'''\n",
    "方差\n",
    "统计中的方差（样本方差）是每个样本值与全体样本值的平均数之差的平方值的平均数，即 mean((x - x.mean())** 2)。\n",
    "换句话说，标准差是方差的平方根。\n",
    "'''\n",
    "print(np.var([1, 2, 3, 4]))"
   ]
  }
 ],
 "metadata": {
  "interpreter": {
   "hash": "2f95e249f8110100ddcf2dcf3bd8e6f8b7e4c1277390fe689f839ca4b18874b3"
  },
  "kernelspec": {
   "display_name": "Python 3.8.10 64-bit (windows store)",
   "name": "python3"
  },
  "language_info": {
   "codemirror_mode": {
    "name": "ipython",
    "version": 3
   },
   "file_extension": ".py",
   "mimetype": "text/x-python",
   "name": "python",
   "nbconvert_exporter": "python",
   "pygments_lexer": "ipython3",
   "version": "3.8.10"
  },
  "orig_nbformat": 4
 },
 "nbformat": 4,
 "nbformat_minor": 2
}
