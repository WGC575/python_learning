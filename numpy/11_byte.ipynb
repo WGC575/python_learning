{
 "cells": [
  {
   "cell_type": "code",
   "execution_count": null,
   "metadata": {},
   "outputs": [],
   "source": [
    "'''\n",
    "NumPy \"bitwise_\" 开头的函数是位运算函数。\n",
    "\n",
    "NumPy 位运算包括以下几个函数：\n",
    "\n",
    "函数\t描述\n",
    "bitwise_and\t对数组元素执行位与操作\n",
    "bitwise_or\t对数组元素执行位或操作\n",
    "invert\t按位取反\n",
    "left_shift\t向左移动二进制表示的位\n",
    "right_shift\t向右移动二进制表示的位\n",
    "注：也可以使用 \"&\"、 \"~\"、 \"|\" 和 \"^\" 等操作符进行计算。\n",
    "\n",
    "'''"
   ]
  }
 ],
 "metadata": {
  "language_info": {
   "name": "python"
  },
  "orig_nbformat": 4
 },
 "nbformat": 4,
 "nbformat_minor": 2
}
