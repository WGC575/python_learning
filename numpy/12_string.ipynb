{
 "cells": [
  {
   "cell_type": "code",
   "execution_count": 13,
   "metadata": {},
   "outputs": [
    {
     "name": "stdout",
     "output_type": "stream",
     "text": [
      "\n",
      "\n",
      "['helloabc' 'hixyz']\n",
      "Triple Triple Triple \n",
      "**********************center**********************\n"
     ]
    }
   ],
   "source": [
    "'''\n",
    "NumPy 字符串函数\n",
    "以下函数用于对 dtype 为 numpy.string_ 或 numpy.unicode_ 的数组执行向量化字符串操作。 它们基于 Python 内置库中的标准字符串函数。\n",
    "\n",
    "这些函数在字符数组类（numpy.char）中定义。\n",
    "\n",
    "函数\t描述\n",
    "add()\t对两个数组的逐个字符串元素进行连接\n",
    "multiply()\t返回按元素多重连接后的字符串\n",
    "center()\t居中字符串\n",
    "capitalize()\t将字符串第一个字母转换为大写\n",
    "title()\t将字符串的每个单词的第一个字母转换为大写\n",
    "lower()\t数组元素转换为小写\n",
    "upper()\t数组元素转换为大写\n",
    "split()\t指定分隔符对字符串进行分割，并返回数组列表\n",
    "splitlines()\t返回元素中的行列表，以换行符分割\n",
    "strip()\t移除元素开头或者结尾处的特定字符\n",
    "join()\t通过指定分隔符来连接数组中的元素\n",
    "replace()\t使用新字符串替换字符串中的所有子字符串\n",
    "decode()\t数组元素依次调用str.decode\n",
    "encode()\t数组元素依次调用str.encode\n",
    "'''\n",
    "\n",
    "import numpy as np\n",
    "np.char.add(['Hello'], [' world.'])\n",
    "print('\\n')\n",
    "#numpy.char.add() 函数依次对两个数组的元素进行字符串连接。\n",
    "print(np.char.add(['hello', 'hi'], ['abc', 'xyz']))\n",
    "#numpy.char.multiply() 函数执行多重连接。\n",
    "print(np.char.multiply('Triple ', 3))\n",
    "#numpy.char.center() 函数用于将字符串居中，并使用指定字符在左侧和右侧进行填充。\n",
    "print(np.char.center('center', 50, fillchar = '*'))"
   ]
  },
  {
   "cell_type": "code",
   "execution_count": 14,
   "metadata": {},
   "outputs": [
    {
     "name": "stdout",
     "output_type": "stream",
     "text": [
      "This is a apple\n",
      "This Is A Pen.\n"
     ]
    }
   ],
   "source": [
    "#numpy.char.capitalize() 函数将字符串的第一个字母转换为大写：\n",
    "print(np.char.capitalize('This is a apple'))\n",
    "\n",
    "#numpy.char.title() 函数将字符串的每个单词的第一个字母转换为大写：\n",
    "print(np.char.title('This is a pen.'))"
   ]
  },
  {
   "cell_type": "code",
   "execution_count": 15,
   "metadata": {},
   "outputs": [
    {
     "name": "stdout",
     "output_type": "stream",
     "text": [
      "['jaasddfakas' 'kjaasfasdfks']\n",
      "asdgsdgsjasd\n"
     ]
    }
   ],
   "source": [
    "#numpy.char.lower() 函数对数组的每个元素转换为小写。它对每个元素调用 str.lower。\n",
    "print(np.char.lower(['jaASDDFAkas', 'kjaASFASDFks']))\n",
    "print(np.char.lower('aSDGSDGSjasd'))"
   ]
  },
  {
   "cell_type": "code",
   "execution_count": 16,
   "metadata": {},
   "outputs": [
    {
     "name": "stdout",
     "output_type": "stream",
     "text": [
      "asdjliajsd\n",
      "ASDKJHBKS\n"
     ]
    }
   ],
   "source": [
    "#numpy.char.upper() 函数对数组的每个元素转换为大写。它对每个元素调用 str.upper。\n",
    "print('asdjliajsd')\n",
    "print(np.char.upper('asdkjhbks'))"
   ]
  },
  {
   "cell_type": "code",
   "execution_count": 17,
   "metadata": {},
   "outputs": [
    {
     "name": "stdout",
     "output_type": "stream",
     "text": [
      "['I', 'have', 'a', 'pen.']\n",
      "['www', 'thisisapen', 'com']\n"
     ]
    }
   ],
   "source": [
    "#numpy.char.split() 通过指定分隔符对字符串进行分割，并返回数组。默认情况下，分隔符为空格。\n",
    "print(np.char.split('I have a pen.'))\n",
    "print(np.char.split('www.thisisapen.com', sep = '.'))"
   ]
  },
  {
   "cell_type": "code",
   "execution_count": 18,
   "metadata": {},
   "outputs": [
    {
     "name": "stdout",
     "output_type": "stream",
     "text": [
      "['i', 'like runoob?']\n",
      "['i', 'like runoob?']\n"
     ]
    }
   ],
   "source": [
    "#numpy.char.splitlines() 函数以换行符作为分隔符来分割字符串，并返回数组。\n",
    "#\\n，\\r，\\r\\n 都可用作换行符。\n",
    "print (np.char.splitlines('i\\nlike runoob?')) \n",
    "print (np.char.splitlines('i\\rlike runoob?'))"
   ]
  },
  {
   "cell_type": "code",
   "execution_count": 19,
   "metadata": {},
   "outputs": [
    {
     "name": "stdout",
     "output_type": "stream",
     "text": [
      "r:u:n:o:o:b\n",
      "['r:u:n:o:o:b' 'g-o-o-g-l-e']\n"
     ]
    }
   ],
   "source": [
    "#numpy.char.join() 函数通过指定分隔符来连接数组中的元素或字符串\n",
    "# 操作字符串\n",
    "print (np.char.join(':','runoob'))\n",
    " \n",
    "# 指定多个分隔符操作数组元素\n",
    "print (np.char.join([':','-'],['runoob','google']))"
   ]
  },
  {
   "cell_type": "code",
   "execution_count": 20,
   "metadata": {},
   "outputs": [
    {
     "name": "stdout",
     "output_type": "stream",
     "text": [
      "b'\\x81\\x97\\x97\\x93\\x85'\n"
     ]
    }
   ],
   "source": [
    "#numpy.char.replace() 函数使用新字符串替换字符串中的所有子字符串。\n",
    "a = np.char.encode('apple', 'cp500')\n",
    "print(a)"
   ]
  },
  {
   "cell_type": "code",
   "execution_count": 21,
   "metadata": {},
   "outputs": [
    {
     "name": "stdout",
     "output_type": "stream",
     "text": [
      "apple\n"
     ]
    }
   ],
   "source": [
    "#numpy.char.decode() 函数对编码的元素进行 str.decode() 解码。\n",
    "print(np.char.decode(a, 'cp500'))"
   ]
  }
 ],
 "metadata": {
  "interpreter": {
   "hash": "2f95e249f8110100ddcf2dcf3bd8e6f8b7e4c1277390fe689f839ca4b18874b3"
  },
  "kernelspec": {
   "display_name": "Python 3.8.10 64-bit (windows store)",
   "name": "python3"
  },
  "language_info": {
   "codemirror_mode": {
    "name": "ipython",
    "version": 3
   },
   "file_extension": ".py",
   "mimetype": "text/x-python",
   "name": "python",
   "nbconvert_exporter": "python",
   "pygments_lexer": "ipython3",
   "version": "3.8.10"
  },
  "orig_nbformat": 4
 },
 "nbformat": 4,
 "nbformat_minor": 2
}
