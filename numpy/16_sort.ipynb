{
 "cells": [
  {
   "cell_type": "code",
   "execution_count": 11,
   "metadata": {},
   "outputs": [
    {
     "name": "stdout",
     "output_type": "stream",
     "text": [
      "[[3 7]\n",
      " [9 1]]\n",
      "[[3 7]\n",
      " [1 9]]\n",
      "[[3 1]\n",
      " [9 7]]\n",
      "[[3 7]\n",
      " [1 9]]\n"
     ]
    }
   ],
   "source": [
    "'''\n",
    "NumPy 排序、条件刷选函数\n",
    "NumPy 提供了多种排序的方法。 这些排序函数实现不同的排序算法，每个排序算法的特征在于执行速度，最坏情况性能，所需的工作空间和算法的稳定性。 下表显示了三种排序算法的比较。\n",
    "\n",
    "种类\t速度\t最坏情况\t工作空间\t稳定性\n",
    "'quicksort'（快速排序）\t1\tO(n^2)\t0\t否\n",
    "'mergesort'（归并排序）\t2\tO(n*log(n))\t~n/2\t是\n",
    "'heapsort'（堆排序）\t3\tO(n*log(n))\t0\t否\n",
    "numpy.sort()\n",
    "numpy.sort() 函数返回输入数组的排序副本。函数格式如下：\n",
    "\n",
    "numpy.sort(a, axis, kind, order)\n",
    "参数说明：\n",
    "\n",
    "a: 要排序的数组\n",
    "axis: 沿着它排序数组的轴，如果没有数组会被展开，沿着最后的轴排序， axis=0 按列排序，axis=1 按行排序\n",
    "kind: 默认为'quicksort'（快速排序）\n",
    "order: 如果数组包含字段，则是要排序的字段\n",
    "'''\n",
    "import numpy as np\n",
    "\n",
    "a = np.array([[3, 7], [9, 1]])\n",
    "print(a)\n",
    "print(np.sort(a))\n",
    "print(np.sort(a, axis = 0))\n",
    "print(np.sort(a, axis = 1))\n"
   ]
  },
  {
   "cell_type": "code",
   "execution_count": 12,
   "metadata": {},
   "outputs": [
    {
     "name": "stdout",
     "output_type": "stream",
     "text": [
      "[(b'raju', 21) (b'anil', 25) (b'ravi', 17) (b'amar', 27)]\n",
      "[(b'amar', 27) (b'anil', 25) (b'raju', 21) (b'ravi', 17)]\n"
     ]
    }
   ],
   "source": [
    "dt = np.dtype([('name', 'S10'), ('age', int)])\n",
    "a = np.array([(\"raju\", 21), ('anil', 25), ('ravi', 17), (\"amar\", 27)], dtype = dt)\n",
    "print(a)\n",
    "print(np.sort(a, order = 'name'))"
   ]
  },
  {
   "cell_type": "code",
   "execution_count": 13,
   "metadata": {},
   "outputs": [
    {
     "name": "stdout",
     "output_type": "stream",
     "text": [
      "[3 1 2]\n",
      "[1 2 0]\n",
      "[1 2 3]\n",
      "1 2 3 "
     ]
    }
   ],
   "source": [
    "'''\n",
    "numpy.argsort()\n",
    "numpy.argsort() 函数返回的是数组值从小到大的索引值。\n",
    "sort the numbers in the array and return the indices\n",
    "'''\n",
    "x = np.array([3, 1, 2])\n",
    "print(x)\n",
    "y = np.argsort(x)\n",
    "print(y)\n",
    "print(x[y])\n",
    "for i in y:\n",
    "    print(x[i], end = \" \")\n",
    "\n",
    "\n"
   ]
  },
  {
   "cell_type": "code",
   "execution_count": 14,
   "metadata": {},
   "outputs": [
    {
     "name": "stdout",
     "output_type": "stream",
     "text": [
      "[3 1 0 2]\n",
      "['amar,f.y', 'anil,s.y', 'raju,f.y', 'ravi,s.y']\n"
     ]
    }
   ],
   "source": [
    "'''\n",
    "numpy.lexsort()\n",
    "numpy.lexsort() 用于对多个序列进行排序。把它想象成对电子表格进行排序，每一列代表一个序列，排序时优先照顾靠后的列。\n",
    "这里举一个应用场景：小升初考试，重点班录取学生按照总成绩录取。在总成绩相同时，数学成绩高的优先录取，在总成绩和数学成绩都相同时，按照英语成绩录取…… 这里，总成绩排在电子表格的最后一列，数学成绩在倒数第二列，英语成绩在倒数第三列。\n",
    "'''\n",
    "name = ('raju', 'anil', 'ravi', 'amar')\n",
    "dv = ('f.y', 's.y', 's.y', 'f.y')\n",
    "ind = np.lexsort((dv, name))\n",
    "print(ind)\n",
    "\n",
    "print([name[i] + \",\" +dv[i] for i in ind])"
   ]
  },
  {
   "cell_type": "code",
   "execution_count": null,
   "metadata": {},
   "outputs": [],
   "source": [
    "'''\n",
    "msort、sort_complex、partition、argpartition\n",
    "函数\t描述\n",
    "msort(a)\t数组按第一个轴排序，返回排序后的数组副本。np.msort(a) 相等于 np.sort(a, axis=0)。\n",
    "sort_complex(a)\t对复数按照先实部后虚部的顺序进行排序。\n",
    "partition(a, kth[, axis, kind, order])\t指定一个数，对数组进行分区\n",
    "argpartition(a, kth[, axis, kind, order])\t可以通过关键字 kind 指定算法沿着指定轴对数组进行分区\n",
    "复数排序：\n",
    "'''\n"
   ]
  }
 ],
 "metadata": {
  "interpreter": {
   "hash": "2f95e249f8110100ddcf2dcf3bd8e6f8b7e4c1277390fe689f839ca4b18874b3"
  },
  "kernelspec": {
   "display_name": "Python 3.8.10 64-bit (windows store)",
   "name": "python3"
  },
  "language_info": {
   "codemirror_mode": {
    "name": "ipython",
    "version": 3
   },
   "file_extension": ".py",
   "mimetype": "text/x-python",
   "name": "python",
   "nbconvert_exporter": "python",
   "pygments_lexer": "ipython3",
   "version": "3.8.10"
  },
  "orig_nbformat": 4
 },
 "nbformat": 4,
 "nbformat_minor": 2
}
