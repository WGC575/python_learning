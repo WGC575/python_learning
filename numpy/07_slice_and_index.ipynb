{
 "cells": [
  {
   "cell_type": "code",
   "execution_count": 23,
   "metadata": {},
   "outputs": [
    {
     "name": "stdout",
     "output_type": "stream",
     "text": [
      "[2 4 6]\n"
     ]
    }
   ],
   "source": [
    "import numpy as np\n",
    "\n",
    "\n",
    "\n",
    "'''\n",
    "ndarray对象的内容可以通过索引或切片来访问和修改，与 Python 中 list 的切片操作一样。\n",
    "ndarray 数组可以基于 0 - n 的下标进行索引，切片对象可以通过内置的 slice 函数，并设置 start, stop 及 step 参数进行，从原数组中切割出一个新数组。\n",
    "'''\n",
    "a = np.arange(10)\n",
    "s = slice(2,7,2)\n",
    "print(a[s])\n"
   ]
  },
  {
   "cell_type": "code",
   "execution_count": 24,
   "metadata": {},
   "outputs": [
    {
     "name": "stdout",
     "output_type": "stream",
     "text": [
      "[2 4 6]\n"
     ]
    }
   ],
   "source": [
    "'''\n",
    "以上实例中，我们首先通过 arange() 函数创建 ndarray 对象。 然后，分别设置起始，终止和步长的参数为 2，7 和 2。\n",
    "我们也可以通过冒号分隔切片参数 start:stop:step 来进行切片操作：\n",
    "'''\n",
    "b = a[2:7:2]\n",
    "print(b)"
   ]
  },
  {
   "cell_type": "code",
   "execution_count": 25,
   "metadata": {},
   "outputs": [
    {
     "name": "stdout",
     "output_type": "stream",
     "text": [
      "5\n",
      "[2 3 4]\n",
      "[2 4 6]\n"
     ]
    }
   ],
   "source": [
    "'''\n",
    "冒号 : 的解释：如果只放置一个参数，如 [2]，将返回与该索引相对应的单个元素。如果为 [2:]，表示从该索引开始以后的所有项都将被提取。如果使用了两个参数，如 [2:7]，那么则提取两个索引(不包括停止索引)之间的项。\n",
    "'''\n",
    "#index, range, step. \n",
    "#Compare the differences.\n",
    "b = a[5]\n",
    "print(b)\n",
    "b = a[2:5]\n",
    "print(b)\n",
    "b = a[2:7:2]\n",
    "print(b)"
   ]
  },
  {
   "cell_type": "code",
   "execution_count": 26,
   "metadata": {},
   "outputs": [
    {
     "name": "stdout",
     "output_type": "stream",
     "text": [
      "[[1 2 3]\n",
      " [2 3 4]\n",
      " [3 5 6]]\n",
      "\n",
      "\n",
      "[[2 3 4]\n",
      " [3 5 6]]\n"
     ]
    }
   ],
   "source": [
    "'''\n",
    "多维数组同样适用上述索引提取方法：\n",
    "'''\n",
    "a = np.array([[1, 2, 3], [2, 3, 4], [3, 5, 6]])\n",
    "print(a)\n",
    "print('\\n')\n",
    "print(a[1:])\n"
   ]
  },
  {
   "cell_type": "code",
   "execution_count": 27,
   "metadata": {},
   "outputs": [
    {
     "name": "stdout",
     "output_type": "stream",
     "text": [
      "[[1 2 3]\n",
      " [2 3 4]\n",
      " [3 5 6]]\n",
      "[2 3 5]\n",
      "[2 3 4]\n",
      "[[2 3]\n",
      " [3 4]\n",
      " [5 6]]\n"
     ]
    }
   ],
   "source": [
    "'''\n",
    "切片还可以包括省略号 …，来使选择元组的长度与数组的维度相同。 如果在行位置使用省略号，它将返回包含行中元素的 ndarray。\n",
    "'''\n",
    "print(a)\n",
    "print(a[..., 1])\n",
    "print(a[1, ...])\n",
    "print(a[..., 1:])\n"
   ]
  },
  {
   "cell_type": "code",
   "execution_count": 28,
   "metadata": {},
   "outputs": [
    {
     "name": "stdout",
     "output_type": "stream",
     "text": [
      "[1 4 5]\n",
      "[[ 0  1  2]\n",
      " [ 3  4  5]\n",
      " [ 6  7  8]\n",
      " [ 9 10 11]]\n",
      "\n",
      "\n",
      "[[0 0]\n",
      " [3 3]]\n",
      "[[0 2]\n",
      " [0 2]]\n",
      "[[ 0  2]\n",
      " [ 9 11]]\n"
     ]
    }
   ],
   "source": [
    "'''\n",
    "NumPy 比一般的 Python 序列提供更多的索引方式。除了之前看到的用整数和切片的索引外，数组可以由整数数组索引、布尔索引及花式索引。\n",
    "以下实例获取数组中(0,0)，(1,1)和(2,0)位置处的元素。\n",
    "'''\n",
    "\n",
    "#multi-indexing\n",
    "x = np.array([[1, 2], [3, 4], [5, 6]])\n",
    "y = x[[0, 1, 2], [0, 1, 0]]\n",
    "print(y)\n",
    "\n",
    "x = np.array([[0, 1, 2], [3, 4, 5], [6, 7, 8], [9, 10, 11]])\n",
    "print(x)\n",
    "print('\\n')\n",
    "rows = np.array([[0, 0], [3, 3]])\n",
    "cols = np.array([[0, 2], [0, 2]])\n",
    "y = x[rows, cols]\n",
    "print(rows)\n",
    "print(cols)\n",
    "print(y)\n",
    "#[0, 0][0, 2][3, 0][3, 2]"
   ]
  },
  {
   "cell_type": "code",
   "execution_count": 34,
   "metadata": {},
   "outputs": [
    {
     "name": "stdout",
     "output_type": "stream",
     "text": [
      "a: [[1 2 3]\n",
      " [4 5 6]\n",
      " [7 8 9]]\n",
      "b: [[5 6]\n",
      " [8 9]]\n",
      "c: [[5 6]\n",
      " [8 9]]\n",
      "d: [[2 3]\n",
      " [5 6]\n",
      " [8 9]]\n"
     ]
    }
   ],
   "source": [
    "'''\n",
    "返回的结果是包含每个角元素的 ndarray 对象。\n",
    "可以借助切片 : 或 … 与索引数组组合。如下面例子:\n",
    "'''\n",
    "a = np.array([[1, 2, 3], [4, 5, 6], [7, 8, 9]])\n",
    "b = a[1: 3, 1: 3] #overrange, 1,1 to 2,2\n",
    "c = a[1:3, [1, 2]] #overrange, again 1,1 to 2,2\n",
    "d = a[..., 1:]\n",
    "print('a:', a)\n",
    "print('b:', b)\n",
    "print('c:', c)\n",
    "print('d:', d)"
   ]
  },
  {
   "cell_type": "code",
   "execution_count": null,
   "metadata": {},
   "outputs": [],
   "source": [
    "'''\n",
    "布尔索引\n",
    "我们可以通过一个布尔数组来索引目标数组。\n",
    "布尔索引通过布尔运算（如：比较运算符）来获取符合指定条件的元素的数组。\n",
    "以下实例获取大于 5 的元素：\n",
    "'''"
   ]
  }
 ],
 "metadata": {
  "interpreter": {
   "hash": "2f95e249f8110100ddcf2dcf3bd8e6f8b7e4c1277390fe689f839ca4b18874b3"
  },
  "kernelspec": {
   "display_name": "Python 3.8.10 64-bit (windows store)",
   "name": "python3"
  },
  "language_info": {
   "codemirror_mode": {
    "name": "ipython",
    "version": 3
   },
   "file_extension": ".py",
   "mimetype": "text/x-python",
   "name": "python",
   "nbconvert_exporter": "python",
   "pygments_lexer": "ipython3",
   "version": "3.8.10"
  },
  "orig_nbformat": 4
 },
 "nbformat": 4,
 "nbformat_minor": 2
}
