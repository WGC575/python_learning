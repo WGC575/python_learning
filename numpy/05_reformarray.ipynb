{
 "cells": [
  {
   "cell_type": "code",
   "execution_count": 13,
   "metadata": {},
   "outputs": [
    {
     "name": "stdout",
     "output_type": "stream",
     "text": [
      "[1, 2, 3]\n",
      "[1 2 3]\n",
      "[[1]\n",
      " [2]\n",
      " [3]]\n"
     ]
    }
   ],
   "source": [
    "import numpy as np\n",
    "\n",
    "#np.asarray(array, dtype = None, order = None)\n",
    "'''\n",
    "a\t任意形式的输入参数，可以是，列表, 列表的元组, 元组, 元组的元组, 元组的列表，多维数组\n",
    "dtype\t数据类型，可选\n",
    "order\t可选，有\"C\"和\"F\"两个选项,分别代表，行优先和列优先，在计算机内存中的存储元素的顺序。\n",
    "'''\n",
    "x = [1, 2, 3]\n",
    "a = np.asarray(x)\n",
    "print(x)\n",
    "print(a)\n",
    "a = np.reshape(x, (3,1))\n",
    "print(a)"
   ]
  },
  {
   "cell_type": "code",
   "execution_count": 14,
   "metadata": {},
   "outputs": [
    {
     "name": "stdout",
     "output_type": "stream",
     "text": [
      "[1. 2. 3.]\n"
     ]
    }
   ],
   "source": [
    "a = np.asarray(x, dtype = float)\n",
    "print(a)\n"
   ]
  },
  {
   "cell_type": "code",
   "execution_count": 15,
   "metadata": {},
   "outputs": [
    {
     "name": "stdout",
     "output_type": "stream",
     "text": [
      "[b'H' b'e' b'l' b'l' b'o' b' ' b'W' b'o' b'r' b'l' b'd']\n"
     ]
    }
   ],
   "source": [
    "#numpy.frombuffer(buffer, dtype = float, count = -1, offset = 0)\n",
    "'''\n",
    "buffer\t可以是任意对象，会以流的形式读入。\n",
    "dtype\t返回数组的数据类型，可选\n",
    "count\t读取的数据数量，默认为-1，读取所有数据。\n",
    "offset\t读取的起始位置，默认为0。\n",
    "'''\n",
    "\n",
    "s = b'Hello World' #bytestring\n",
    "a = np.frombuffer(s, dtype = 'S1')\n",
    "print(a)\n"
   ]
  },
  {
   "cell_type": "code",
   "execution_count": 16,
   "metadata": {},
   "outputs": [
    {
     "name": "stdout",
     "output_type": "stream",
     "text": [
      "[0. 1. 2. 3. 4.]\n"
     ]
    }
   ],
   "source": [
    "#numpy.fromiter(iterable, dtype, count=-1)\n",
    "'''\n",
    "numpy.fromiter 方法从可迭代对象中建立 ndarray 对象，返回一维数组。\n",
    "iterable\t可迭代对象\n",
    "dtype\t返回数组的数据类型\n",
    "count\t读取的数据数量，默认为-1，读取所有数据\n",
    "'''\n",
    "list = range(5)\n",
    "it = iter(list)\n",
    "x = np.fromiter(it, dtype = float)\n",
    "print(x)\n"
   ]
  },
  {
   "cell_type": "code",
   "execution_count": null,
   "metadata": {},
   "outputs": [],
   "source": []
  },
  {
   "cell_type": "markdown",
   "metadata": {},
   "source": []
  }
 ],
 "metadata": {
  "interpreter": {
   "hash": "2f95e249f8110100ddcf2dcf3bd8e6f8b7e4c1277390fe689f839ca4b18874b3"
  },
  "kernelspec": {
   "display_name": "Python 3.8.10 64-bit (windows store)",
   "name": "python3"
  },
  "language_info": {
   "codemirror_mode": {
    "name": "ipython",
    "version": 3
   },
   "file_extension": ".py",
   "mimetype": "text/x-python",
   "name": "python",
   "nbconvert_exporter": "python",
   "pygments_lexer": "ipython3",
   "version": "3.8.10"
  },
  "orig_nbformat": 4
 },
 "nbformat": 4,
 "nbformat_minor": 2
}
