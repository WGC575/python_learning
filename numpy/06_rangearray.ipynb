{
 "cells": [
  {
   "cell_type": "code",
   "execution_count": 37,
   "metadata": {},
   "outputs": [
    {
     "name": "stdout",
     "output_type": "stream",
     "text": [
      "[0. 1. 2. 3. 4.]\n",
      "[10. 12. 14. 16. 18.]\n"
     ]
    }
   ],
   "source": [
    "'''\n",
    "numpy 包中的使用 arange 函数创建数值范围并返回 ndarray 对象，函数格式如下：\n",
    "numpy.arange(start, stop, step, dtype)\n",
    "根据 start 与 stop 指定的范围以及 step 设定的步长，生成一个 ndarray。\n",
    "start\t起始值，默认为0\n",
    "stop\t终止值（不包含）\n",
    "step\t步长，默认为1\n",
    "dtype\t返回ndarray的数据类型，如果没有提供，则会使用输入数据的类型。\n",
    "'''\n",
    "\n",
    "import numpy as np\n",
    "\n",
    "x = np.arange(5, dtype = float)\n",
    "print(x)\n",
    "\n",
    "x = np.arange(10, 20, 2, dtype = float)\n",
    "print(x)"
   ]
  },
  {
   "cell_type": "code",
   "execution_count": 38,
   "metadata": {},
   "outputs": [
    {
     "name": "stdout",
     "output_type": "stream",
     "text": [
      "[ 1.   1.5  2.   2.5  3.   3.5  4.   4.5  5.   5.5  6.   6.5  7.   7.5\n",
      "  8.   8.5  9.   9.5 10. ]\n",
      "[1.  1.5 2.  2.5 3.  3.5 4.  4.5 5.  5.5 6.  6.5 7.  7.5 8.  8.5 9.  9.5]\n",
      "[1. 1. 1. 1. 1. 1. 1. 1. 1. 1.]\n",
      "[[1.]\n",
      " [1.]\n",
      " [1.]\n",
      " [1.]\n",
      " [1.]\n",
      " [1.]\n",
      " [1.]\n",
      " [1.]\n",
      " [1.]\n",
      " [1.]]\n"
     ]
    }
   ],
   "source": [
    "'''\n",
    "等差数列\n",
    "numpy.linspace\n",
    "linear space?\n",
    "numpy.linspace 函数用于创建一个一维数组，数组是一个等差数列构成的，格式如下：\n",
    "np.linspace(start, stop, num=50, endpoint=True, retstep=False, dtype=None)\n",
    "start\t序列的起始值\n",
    "stop\t序列的终止值，如果endpoint为true，该值包含于数列中\n",
    "num\t要生成的等步长的样本数量，默认为50\n",
    "endpoint\t该值为 true 时，数列中包含stop值，反之不包含，默认是True。\n",
    "retstep\t如果为 True 时，生成的数组中会显示间距，反之不显示。\n",
    "dtype\tndarray 的数据类型\n",
    "'''\n",
    "a = np.linspace(1, 10, 19)\n",
    "print(a)\n",
    "a = np.linspace(1, 10, 18, endpoint = False)\n",
    "print(a)\n",
    "a = np.linspace(1, 1, 10)\n",
    "print(a)\n",
    "x = a.reshape([10,1])\n",
    "print(x)"
   ]
  },
  {
   "cell_type": "code",
   "execution_count": 39,
   "metadata": {},
   "outputs": [
    {
     "name": "stdout",
     "output_type": "stream",
     "text": [
      "[ 10.          12.91549665  16.68100537  21.5443469   27.82559402\n",
      "  35.93813664  46.41588834  59.94842503  77.42636827 100.        ]\n",
      "[  1.   2.   4.   8.  16.  32.  64. 128. 256. 512.]\n"
     ]
    }
   ],
   "source": [
    "'''\n",
    "numpy.logspace\n",
    "logarithmic space?\n",
    "numpy.logspace 函数用于创建一个于等比数列。格式如下：\n",
    "np.logspace(start, stop, num=50, endpoint=True, base=10.0, dtype=None)\n",
    "start\t序列的起始值为：base ** start\n",
    "stop\t序列的终止值为：base ** stop。如果endpoint为true，该值包含于数列中\n",
    "num\t要生成的等步长的样本数量，默认为50\n",
    "endpoint\t该值为 true 时，数列中中包含stop值，反之不包含，默认是True。\n",
    "base\t对数 log 的底数, default to 10。\n",
    "dtype\tndarray 的数据类型\n",
    "'''\n",
    "a = np.logspace(1.0, 2.0, num = 10)\n",
    "#10^1 to 10^2\n",
    "print(a)\n",
    "\n",
    "a = np.logspace(0, 9, num = 10, base = 2)\n",
    "print(a)"
   ]
  }
 ],
 "metadata": {
  "interpreter": {
   "hash": "2f95e249f8110100ddcf2dcf3bd8e6f8b7e4c1277390fe689f839ca4b18874b3"
  },
  "kernelspec": {
   "display_name": "Python 3.8.10 64-bit (windows store)",
   "name": "python3"
  },
  "language_info": {
   "codemirror_mode": {
    "name": "ipython",
    "version": 3
   },
   "file_extension": ".py",
   "mimetype": "text/x-python",
   "name": "python",
   "nbconvert_exporter": "python",
   "pygments_lexer": "ipython3",
   "version": "3.8.10"
  },
  "orig_nbformat": 4
 },
 "nbformat": 4,
 "nbformat_minor": 2
}
