{
 "cells": [
  {
   "cell_type": "code",
   "execution_count": 7,
   "metadata": {},
   "outputs": [
    {
     "name": "stdout",
     "output_type": "stream",
     "text": [
      "[[0 1 2]\n",
      " [3 4 5]]\n",
      "\n",
      "\n",
      "iteration:\n",
      "\n",
      "0, 1, 2, 3, 4, 5, \n",
      "\n"
     ]
    }
   ],
   "source": [
    "'''\n",
    "NumPy 迭代数组\n",
    "NumPy 迭代器对象 numpy.nditer 提供了一种灵活访问一个或者多个数组元素的方式。\n",
    "迭代器最基本的任务的可以完成对数组元素的访问。\n",
    "接下来我们使用 arange() 函数创建一个 2X3 数组，并使用 nditer 对它进行迭代\n",
    "'''\n",
    "import numpy as np\n",
    "a = np.arange(6).reshape(2, 3)\n",
    "print(a)\n",
    "print('\\n')\n",
    "print('iteration:\\n')\n",
    "for x in np.nditer(a):\n",
    "    print(x, end = \", \")\n",
    "print('\\n')\n"
   ]
  },
  {
   "cell_type": "code",
   "execution_count": 8,
   "metadata": {},
   "outputs": [
    {
     "name": "stdout",
     "output_type": "stream",
     "text": [
      "[[0 1 2]\n",
      " [3 4 5]]\n",
      "<numpy.nditer object at 0x0000013A44F278F0>\n",
      "0, 1, 2, 3, 4, 5, \n",
      "\n",
      "0, 3, 1, 4, 2, 5, \n",
      "\n"
     ]
    }
   ],
   "source": [
    "'''\n",
    "以上实例不是使用标准 C 或者 Fortran 顺序，选择的顺序是和数组内存布局一致的，这样做是为了提升访问的效率，默认是行序优先（row-major order，或者说是 C-order）。\n",
    "这反映了默认情况下只需访问每个元素，而无需考虑其特定顺序。我们可以通过迭代上述数组的转置来看到这一点，并与以 C 顺序访问数组转置的 copy 方式做对比，如下实例：\n",
    "'''\n",
    "a = np. arange(6).reshape(2, 3)\n",
    "print(a)\n",
    "print(np.nditer(a.T))\n",
    "for x in np.nditer(a.T):\n",
    "    print(x, end = \", \")\n",
    "print('\\n')\n",
    "for x in np.nditer(a.T.copy(order = 'C')):\n",
    "    print(x, end = \", \")\n",
    "print('\\n')\n"
   ]
  },
  {
   "cell_type": "code",
   "execution_count": 9,
   "metadata": {},
   "outputs": [
    {
     "name": "stdout",
     "output_type": "stream",
     "text": [
      "原始数组是：\n",
      "[[ 0  5 10 15]\n",
      " [20 25 30 35]\n",
      " [40 45 50 55]]\n",
      "\n",
      "\n",
      "原始数组的转置是：\n",
      "[[ 0 20 40]\n",
      " [ 5 25 45]\n",
      " [10 30 50]\n",
      " [15 35 55]]\n",
      "\n",
      "\n",
      "以 C 风格顺序排序：\n",
      "[[ 0 20 40]\n",
      " [ 5 25 45]\n",
      " [10 30 50]\n",
      " [15 35 55]]\n",
      "0, 20, 40, 5, 25, 45, 10, 30, 50, 15, 35, 55, \n",
      "\n",
      "以 F 风格顺序排序：\n",
      "[[ 0 20 40]\n",
      " [ 5 25 45]\n",
      " [10 30 50]\n",
      " [15 35 55]]\n",
      "0, 5, 10, 15, 20, 25, 30, 35, 40, 45, 50, 55, "
     ]
    }
   ],
   "source": [
    "a = np.arange(0,60,5) \n",
    "a = a.reshape(3,4)  \n",
    "print ('原始数组是：') \n",
    "print (a) \n",
    "print ('\\n') \n",
    "print ('原始数组的转置是：') \n",
    "b = a.T \n",
    "print (b) \n",
    "print ('\\n') \n",
    "print ('以 C 风格顺序排序：') \n",
    "c = b.copy(order='C')  \n",
    "print (c)\n",
    "for x in np.nditer(c):  \n",
    "    print (x, end=\", \" )\n",
    "print  ('\\n') \n",
    "print  ('以 F 风格顺序排序：')\n",
    "c = b.copy(order='F')  \n",
    "print (c)\n",
    "for x in np.nditer(c):  \n",
    "    print (x, end=\", \" )"
   ]
  },
  {
   "cell_type": "code",
   "execution_count": 10,
   "metadata": {},
   "outputs": [
    {
     "name": "stdout",
     "output_type": "stream",
     "text": [
      "[[ 0  5 10 15]\n",
      " [20 25 30 35]\n",
      " [40 45 50 55]]\n",
      "\n",
      "\n",
      "[[  0  10  20  30]\n",
      " [ 40  50  60  70]\n",
      " [ 80  90 100 110]]\n"
     ]
    }
   ],
   "source": [
    "'''\n",
    "修改数组中元素的值\n",
    "nditer 对象有另一个可选参数 op_flags。 默认情况下，nditer 将视待迭代遍历的数组为只读对象（read-only），为了在遍历数组的同时，实现对数组元素值得修改，必须指定 read-write 或者 write-only 的模式。\n",
    "'''\n",
    "a = np.arange(0, 60, 5)\n",
    "a = a.reshape(3, 4)\n",
    "print(a)\n",
    "print('\\n')\n",
    "for x in np.nditer(a, op_flags = ['readwrite']):\n",
    "    x[...] = 2 * x\n",
    "print(a)"
   ]
  },
  {
   "cell_type": "code",
   "execution_count": 11,
   "metadata": {},
   "outputs": [
    {
     "name": "stdout",
     "output_type": "stream",
     "text": [
      "[[ 0  5 10 15]\n",
      " [20 25 30 35]\n",
      " [40 45 50 55]] \n",
      "\n",
      "[ 0 20 40], [ 5 25 45], [10 30 50], [15 35 55], "
     ]
    }
   ],
   "source": [
    "#在下面的实例中，迭代器遍历对应于每列，并组合为一维数组。\n",
    "'''\n",
    "flags:\n",
    "c_index\t可以跟踪 C 顺序的索引\n",
    "f_index\t可以跟踪 Fortran 顺序的索引\n",
    "multi_index\t每次迭代可以跟踪一种索引类型\n",
    "external_loop\t给出的值是具有多个值的一维数组，而不是零维数组\n",
    "'''\n",
    "a = np.arange(0, 60, 5)\n",
    "a = a.reshape(3, 4)\n",
    "print(a, '\\n')\n",
    "for x in np.nditer(a, flags = ['external_loop'], order = 'F'):\n",
    "    print(x, end = \", \")\n",
    "\n"
   ]
  },
  {
   "cell_type": "code",
   "execution_count": 12,
   "metadata": {},
   "outputs": [
    {
     "name": "stdout",
     "output_type": "stream",
     "text": [
      "第一个数组为：\n",
      "[[ 0  5 10 15]\n",
      " [20 25 30 35]\n",
      " [40 45 50 55]]\n",
      "\n",
      "\n",
      "第二个数组为：\n",
      "[1 2 3 4]\n",
      "\n",
      "\n",
      "修改后的数组为：\n",
      "0:1, 5:2, 10:3, 15:4, 20:1, 25:2, 30:3, 35:4, 40:1, 45:2, 50:3, 55:4, "
     ]
    }
   ],
   "source": [
    "'''\n",
    "广播迭代\n",
    "如果两个数组是可广播的，nditer 组合对象能够同时迭代它们。 假设数组 a 的维度为 3X4，数组 b 的维度为 1X4 ，则使用以下迭代器（数组 b 被广播到 a 的大小）。\n",
    "'''\n",
    "a = np.arange(0,60,5) \n",
    "a = a.reshape(3,4)  \n",
    "print  ('第一个数组为：')\n",
    "print (a)\n",
    "print  ('\\n')\n",
    "print ('第二个数组为：')\n",
    "b = np.array([1,  2,  3,  4], dtype =  int)  \n",
    "print (b)\n",
    "print ('\\n')\n",
    "print ('修改后的数组为：')\n",
    "for x,y in np.nditer([a,b]):  \n",
    "    print (\"%d:%d\"  %  (x,y), end=\", \" )"
   ]
  }
 ],
 "metadata": {
  "interpreter": {
   "hash": "2f95e249f8110100ddcf2dcf3bd8e6f8b7e4c1277390fe689f839ca4b18874b3"
  },
  "kernelspec": {
   "display_name": "Python 3.8.10 64-bit (windows store)",
   "name": "python3"
  },
  "language_info": {
   "codemirror_mode": {
    "name": "ipython",
    "version": 3
   },
   "file_extension": ".py",
   "mimetype": "text/x-python",
   "name": "python",
   "nbconvert_exporter": "python",
   "pygments_lexer": "ipython3",
   "version": "3.8.10"
  },
  "orig_nbformat": 4
 },
 "nbformat": 4,
 "nbformat_minor": 2
}
