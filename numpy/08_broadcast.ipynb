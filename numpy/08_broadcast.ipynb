{
 "cells": [
  {
   "cell_type": "code",
   "execution_count": 9,
   "metadata": {},
   "outputs": [
    {
     "name": "stdout",
     "output_type": "stream",
     "text": [
      "[1 2 3 4]\n",
      "[10 20 30 40]\n",
      "[ 10  40  90 160]\n"
     ]
    }
   ],
   "source": [
    "'''\n",
    "NumPy 广播(Broadcast)\n",
    "广播(Broadcast)是 numpy 对不同形状(shape)的数组进行数值计算的方式， 对数组的算术运算通常在相应的元素上进行。\n",
    "如果两个数组 a 和 b 形状相同，即满足 a.shape == b.shape，那么 a*b 的结果就是 a 与 b 数组对应位相乘。这要求维数相同，且各维度的长度相同。\n",
    "Compatible shapes\n",
    "'''\n",
    "import numpy as np\n",
    "\n",
    "a = np.array([1, 2, 3, 4])\n",
    "b = np.array([10, 20, 30, 40])\n",
    "c = a*b\n",
    "print(a)\n",
    "print(b)\n",
    "print(c)"
   ]
  },
  {
   "cell_type": "code",
   "execution_count": 10,
   "metadata": {},
   "outputs": [
    {
     "name": "stdout",
     "output_type": "stream",
     "text": [
      "[[ 0  0  0]\n",
      " [10 10 10]\n",
      " [20 20 20]\n",
      " [30 30 30]]\n",
      "[1 2 3]\n",
      "[[ 1  2  3]\n",
      " [11 12 13]\n",
      " [21 22 23]\n",
      " [31 32 33]]\n",
      "[[ 0  0  0]\n",
      " [10 20 30]\n",
      " [20 40 60]\n",
      " [30 60 90]]\n"
     ]
    }
   ],
   "source": [
    "#当运算中的 2 个数组的形状不同时，numpy 将自动触发广播机制。如：\n",
    "a = np.array(\n",
    "    [[0, 0, 0],\n",
    "    [10, 10, 10],\n",
    "    [20, 20, 20],\n",
    "    [30, 30, 30]]\n",
    "    )\n",
    "b = np.array([1, 2, 3])\n",
    "print(a)\n",
    "print(b)\n",
    "print(a + b)\n",
    "print(a * b)\n"
   ]
  },
  {
   "cell_type": "code",
   "execution_count": 11,
   "metadata": {},
   "outputs": [
    {
     "name": "stdout",
     "output_type": "stream",
     "text": [
      "[[ 0  0  0]\n",
      " [10 10 10]\n",
      " [20 20 20]\n",
      " [30 30 30]]\n",
      "[[1 2 3]\n",
      " [1 2 3]\n",
      " [1 2 3]\n",
      " [1 2 3]]\n",
      "[[ 1  2  3]\n",
      " [11 12 13]\n",
      " [21 22 23]\n",
      " [31 32 33]]\n"
     ]
    }
   ],
   "source": [
    "#4x3 的二维数组与长为 3 的一维数组相加，等效于把数组 b 在二维上重复 4 次再运算：\n",
    "bb = np.tile(b, (4, 1))\n",
    "print(a)\n",
    "print(bb)\n",
    "print(a + bb)\n"
   ]
  }
 ],
 "metadata": {
  "interpreter": {
   "hash": "2f95e249f8110100ddcf2dcf3bd8e6f8b7e4c1277390fe689f839ca4b18874b3"
  },
  "kernelspec": {
   "display_name": "Python 3.8.10 64-bit (windows store)",
   "name": "python3"
  },
  "language_info": {
   "codemirror_mode": {
    "name": "ipython",
    "version": 3
   },
   "file_extension": ".py",
   "mimetype": "text/x-python",
   "name": "python",
   "nbconvert_exporter": "python",
   "pygments_lexer": "ipython3",
   "version": "3.8.10"
  },
  "orig_nbformat": 4
 },
 "nbformat": 4,
 "nbformat_minor": 2
}
